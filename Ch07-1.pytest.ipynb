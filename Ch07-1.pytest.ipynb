{
 "cells": [
  {
   "cell_type": "code",
   "execution_count": null,
   "id": "b7f56e21-4394-44a0-9250-33f91926c096",
   "metadata": {},
   "outputs": [],
   "source": [
    "%%writefile ch07_functions.py\n",
    "\n",
    "\n",
    "def weighted_mean(num_list, weights):\n",
    "    running_total = 0\n",
    "    for i in range(len(num_list)):\n",
    "        running_total += (num_list[i] * weights[i])\n",
    "    return (running_total/sum(weights))"
   ]
  },
  {
   "cell_type": "code",
   "execution_count": null,
   "id": "ee819c21-153a-49b1-8e35-597650fc219a",
   "metadata": {},
   "outputs": [],
   "source": [
    "%%writefile test_weighted_mean.py\n",
    "from ch07_functions import weighted_mean\n",
    "\n",
    "\n",
    "def test_weighted_mean():\n",
    "    list_a = [1, 2, 4]\n",
    "    list_b = [1, 2, 4]\n",
    "    result = weighted_mean(list_a, list_b)\n",
    "    assert result == 3"
   ]
  },
  {
   "cell_type": "code",
   "execution_count": null,
   "id": "86313003-aaaf-49bc-826a-9bcbbe5e5365",
   "metadata": {},
   "outputs": [],
   "source": [
    "!pytest test_weighted_mean.py"
   ]
  },
  {
   "cell_type": "code",
   "execution_count": null,
   "id": "7c56e9d3-7980-4db0-8dc8-033ef8a68e46",
   "metadata": {},
   "outputs": [],
   "source": [
    "%%writefile ch07_functions.py\n",
    "from scipy.stats import linregress\n",
    "\n",
    "\n",
    "def weighted_mean(num_list, weights):\n",
    "    running_total = 0\n",
    "    for i in range(len(num_list)):\n",
    "        running_total += (num_list[i] * weights[i])\n",
    "    return (running_total/sum(weights))\n",
    "\n",
    "\n",
    "def fit_trendline(year_timestamps, data):\n",
    "    result = linregress(year_timestamps, data)\n",
    "    slope = round(result.slope, 3)\n",
    "    r_squared = round(result.rvalue**2, 3)\n",
    "    return slope, r_squared"
   ]
  },
  {
   "cell_type": "code",
   "execution_count": null,
   "id": "b3d96d91-1169-4370-ad91-a4af56b03ec4",
   "metadata": {},
   "outputs": [],
   "source": [
    "%%writefile test_fit_trendline.py\n",
    "from ch07_functions import fit_trendline\n",
    "\n",
    "\n",
    "def test_fit_trendline():\n",
    "    data = [1, 2, 3]\n",
    "    timestamps = [2020, 2021, 2022]\n",
    "    slope, r_squared = fit_trendline(timestamps, data)\n",
    "    assert slope == 1\n",
    "    assert r_squared == 1"
   ]
  },
  {
   "cell_type": "code",
   "execution_count": null,
   "id": "6d2de4d9-fb11-40ea-8e16-600294b8d38e",
   "metadata": {},
   "outputs": [],
   "source": [
    "!pytest test_fit_trendline.py"
   ]
  },
  {
   "cell_type": "code",
   "execution_count": null,
   "id": "0ac24862-0353-4cae-9500-777eefd7fd2b",
   "metadata": {},
   "outputs": [],
   "source": [
    "%%writefile ch07_functions.py\n",
    "from scipy.stats import linregress\n",
    "\n",
    "\n",
    "def weighted_mean(num_list, weights):\n",
    "    if not (num_list or weights):\n",
    "        return None\n",
    "    running_total = 0\n",
    "    for i in range(len(num_list)):\n",
    "        running_total += (num_list[i] * weights[i])\n",
    "    return (running_total/sum(weights))\n",
    "\n",
    "\n",
    "def fit_trendline(year_timestamps, data):\n",
    "    result = linregress(year_timestamps, data)\n",
    "    slope = round(result.slope, 3)\n",
    "    r_squared = round(result.rvalue**2, 3)\n",
    "    return slope, r_squared"
   ]
  },
  {
   "cell_type": "code",
   "execution_count": null,
   "id": "872e7d1a-0405-4aa7-a912-c2204a3f172b",
   "metadata": {},
   "outputs": [],
   "source": [
    "%%writefile test_weighted_mean.py\n",
    "from ch07_functions import weighted_mean\n",
    "\n",
    "\n",
    "def test_weighted_mean():\n",
    "    \"\"\"\n",
    "    list_a = [1, 2, 4]\n",
    "    list_b = [1, 2, 4]\n",
    "    result = weighted_mean(list_a, list_b)\n",
    "    \"\"\"\n",
    "    result = weighted_mean([1, 2, 4], [1, 2, 4])\n",
    "    assert result == 3\n",
    "    empty_list_result = weighted_mean([], [])\n",
    "    assert not empty_list_result"
   ]
  },
  {
   "cell_type": "code",
   "execution_count": null,
   "id": "c56a5800-7d92-43d9-96a8-d604f965c245",
   "metadata": {},
   "outputs": [],
   "source": [
    "!pytest test_weighted_mean.py"
   ]
  },
  {
   "cell_type": "code",
   "execution_count": null,
   "id": "a7b32596-30ab-466c-9314-e2131e9e6d75",
   "metadata": {},
   "outputs": [],
   "source": [
    "%%writefile test_weighted_mean.py\n",
    "from ch07_functions import weighted_mean\n",
    "\n",
    "\n",
    "def test_weighted_mean():\n",
    "    \"\"\"\n",
    "    list_a = [1, 2, 4]\n",
    "    list_b = [1, 2, 4]\n",
    "    result = weighted_mean(list_a, list_b)\n",
    "    \"\"\"\n",
    "    result = weighted_mean([1, 2, 4], [1, 2, 4])\n",
    "    assert result == 3\n",
    "    empty_list_result = weighted_mean([], [])\n",
    "    assert not empty_list_result\n",
    "    wrong_types_result = weighted_mean([\"one\", 2, 4], [1, 2, 4])\n",
    "    assert not empty_list_result"
   ]
  },
  {
   "cell_type": "code",
   "execution_count": null,
   "id": "18d933f0-2e51-4c67-8e3b-cf4a2e4ecb26",
   "metadata": {},
   "outputs": [],
   "source": [
    "!pytest test_weighted_mean.py"
   ]
  },
  {
   "cell_type": "code",
   "execution_count": null,
   "id": "096041e7-3daf-4f4c-bb6b-fc42abffbf4d",
   "metadata": {},
   "outputs": [],
   "source": []
  }
 ],
 "metadata": {
  "kernelspec": {
   "display_name": "Python 3.8",
   "language": "python",
   "name": "py38"
  },
  "language_info": {
   "codemirror_mode": {
    "name": "ipython",
    "version": 3
   },
   "file_extension": ".py",
   "mimetype": "text/x-python",
   "name": "python",
   "nbconvert_exporter": "python",
   "pygments_lexer": "ipython3",
   "version": "3.8.18"
  }
 },
 "nbformat": 4,
 "nbformat_minor": 5
}
