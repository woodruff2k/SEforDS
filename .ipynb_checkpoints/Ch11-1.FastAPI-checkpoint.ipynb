{
 "cells": [
  {
   "cell_type": "code",
   "execution_count": null,
   "id": "d5d70f14-fc3d-46e6-b7be-e500489503f8",
   "metadata": {},
   "outputs": [],
   "source": [
    "from fastapi import FastAPI\n",
    "\n",
    "\n",
    "app = FastAPI()\n",
    "app"
   ]
  },
  {
   "cell_type": "code",
   "execution_count": null,
   "id": "6c23681e-67e2-46e7-8674-a003c373f34d",
   "metadata": {},
   "outputs": [],
   "source": [
    "@app.get(\"/say_hi/\")\n",
    "def say_hi():\n",
    "    return {\"Hi\": \"There\"}"
   ]
  },
  {
   "cell_type": "code",
   "execution_count": null,
   "id": "7319103c-0051-4901-9486-8948e3f1c3d8",
   "metadata": {},
   "outputs": [],
   "source": [
    "%%writefile chapter_11_api.py\n",
    "from fastapi import FastAPI\n",
    "\n",
    "\n",
    "app = FastAPI()\n",
    "\n",
    "\n",
    "@app.get(\"/say_hi/\")\n",
    "def say_hi():\n",
    "    return {\"Hi\": \"There\"}"
   ]
  },
  {
   "cell_type": "code",
   "execution_count": null,
   "id": "b9ce453a-6f5a-47bb-a1b0-ff00917b708d",
   "metadata": {},
   "outputs": [],
   "source": [
    "!uvicorn chapter_11_api:app"
   ]
  },
  {
   "cell_type": "code",
   "execution_count": null,
   "id": "4d983ba5-3900-4401-afc4-84cfac1ad4e5",
   "metadata": {},
   "outputs": [],
   "source": [
    "%%writefile chapter_11_api.py\n",
    "from fastapi import FastAPI\n",
    "\n",
    "\n",
    "app = FastAPI()\n",
    "\n",
    "\n",
    "@app.get(\"/say_hi/\")\n",
    "def say_hi():\n",
    "    return {\"Hi\": \"There\"}\n",
    "\n",
    "\n",
    "@app.get(\"/say_hello/{name}\")\n",
    "def say_hello(name):\n",
    "    return {\"Hello\": name}"
   ]
  },
  {
   "cell_type": "code",
   "execution_count": null,
   "id": "19e37d89-6cb1-41d8-92cb-6f8cd0e3b664",
   "metadata": {},
   "outputs": [],
   "source": [
    "!uvicorn chapter_11_api:app"
   ]
  },
  {
   "cell_type": "code",
   "execution_count": null,
   "id": "aba75fd0-f0ab-49d9-8c72-857ab5ed6658",
   "metadata": {},
   "outputs": [],
   "source": [
    "%%writefile chapter_11_api.py\n",
    "from fastapi import FastAPI\n",
    "\n",
    "\n",
    "app = FastAPI()\n",
    "\n",
    "\n",
    "@app.get(\"/say_hi/\")\n",
    "def say_hi():\n",
    "    return {\"Hi\": \"There\"}\n",
    "\n",
    "\n",
    "@app.get(\"/say_hello/{name}\")\n",
    "def say_hello(name: str) -> str:\n",
    "    return {\"Hello\": name}"
   ]
  },
  {
   "cell_type": "code",
   "execution_count": null,
   "id": "fcdf8dde-dbd1-438b-822d-48f13f2bbfa4",
   "metadata": {},
   "outputs": [],
   "source": [
    "!uvicorn chapter_11_api:app"
   ]
  },
  {
   "cell_type": "code",
   "execution_count": null,
   "id": "53a23dbf-8132-48a1-b06b-951ab04105e0",
   "metadata": {},
   "outputs": [],
   "source": []
  }
 ],
 "metadata": {
  "kernelspec": {
   "display_name": "Python 3.8",
   "language": "python",
   "name": "py38"
  },
  "language_info": {
   "codemirror_mode": {
    "name": "ipython",
    "version": 3
   },
   "file_extension": ".py",
   "mimetype": "text/x-python",
   "name": "python",
   "nbconvert_exporter": "python",
   "pygments_lexer": "ipython3",
   "version": "3.8.18"
  }
 },
 "nbformat": 4,
 "nbformat_minor": 5
}
