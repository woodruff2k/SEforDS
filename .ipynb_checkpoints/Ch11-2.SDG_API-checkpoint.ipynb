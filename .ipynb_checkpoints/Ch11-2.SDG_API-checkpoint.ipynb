{
 "cells": [
  {
   "cell_type": "code",
   "execution_count": 1,
   "id": "477750a4-dc08-4a86-8594-7a51018e2e36",
   "metadata": {},
   "outputs": [
    {
     "data": {
      "text/plain": [
       "(0.292, 0.869)"
      ]
     },
     "execution_count": 1,
     "metadata": {},
     "output_type": "execute_result"
    }
   ],
   "source": [
    "from scipy.stats import linregress\n",
    "import pandas as pd\n",
    "\n",
    "\n",
    "def process_sdg_data(input_excel_file, columns_to_drop):\n",
    "    df = pd.read_excel(input_excel_file)\n",
    "    df = df.drop(columns_to_drop, axis=1)\n",
    "    df = df.set_index(\"GeoAreaName\").transpose()\n",
    "    return df\n",
    "    \n",
    "\n",
    "def fit_trendline(year_timestamps, data):\n",
    "    result = linregress(year_timestamps, data)\n",
    "    slope = round(result.slope, 3)\n",
    "    r_squared = round(result.rvalue**2, 3)\n",
    "    return slope, r_squared\n",
    "\n",
    "\n",
    "def country_trendline(country_name):\n",
    "    df = process_sdg_data(\"data/SG_GEN_PARL.xlsx\", \n",
    "                          [\"Goal\", \"Target\", \"Indicator\", \"SeriesCode\", \"SeriesDescription\", \"GeoAreaCode\", \"Reporting Type\", \"Sex\", \"Units\"])\n",
    "    timestamps = [int(i) for i in df.index.tolist()]\n",
    "    country_data = df[country_name].tolist()\n",
    "    slope, r_squared = fit_trendline(timestamps, country_data)\n",
    "    return slope, r_squared\n",
    "\n",
    "\n",
    "country_trendline(\"India\")"
   ]
  },
  {
   "cell_type": "code",
   "execution_count": 2,
   "id": "bea119bf-6cef-4c27-89f0-10b8b738bb2a",
   "metadata": {},
   "outputs": [
    {
     "data": {
      "text/plain": [
       "<fastapi.applications.FastAPI at 0x11799ce80>"
      ]
     },
     "execution_count": 2,
     "metadata": {},
     "output_type": "execute_result"
    }
   ],
   "source": [
    "from fastapi import FastAPI\n",
    "\n",
    "\n",
    "app = FastAPI()\n",
    "app"
   ]
  },
  {
   "cell_type": "code",
   "execution_count": 3,
   "id": "ff0cd0e0-eeec-4eab-9e33-587234cb1274",
   "metadata": {},
   "outputs": [],
   "source": [
    "@app.get(\"/country_trendline/{country}\")\n",
    "def calculate_country_trendline(country: str):\n",
    "    slope, r_squared = country_trendline(country)\n",
    "    return {\"slope\": slope, \"r_squared\": r_squared}"
   ]
  },
  {
   "cell_type": "code",
   "execution_count": 4,
   "id": "e85d2850-f70d-43c2-bed2-34d75cd89842",
   "metadata": {},
   "outputs": [
    {
     "name": "stdout",
     "output_type": "stream",
     "text": [
      "Overwriting chapter_11_functions.py\n"
     ]
    }
   ],
   "source": [
    "%%writefile chapter_11_functions.py\n",
    "from scipy.stats import linregress\n",
    "from fastapi import FastAPI\n",
    "import pandas as pd\n",
    "\n",
    "\n",
    "def process_sdg_data(input_excel_file, columns_to_drop):\n",
    "    df = pd.read_excel(input_excel_file)\n",
    "    df = df.drop(columns_to_drop, axis=1)\n",
    "    df = df.set_index(\"GeoAreaName\").transpose()\n",
    "    return df\n",
    "    \n",
    "\n",
    "def fit_trendline(year_timestamps, data):\n",
    "    result = linregress(year_timestamps, data)\n",
    "    slope = round(result.slope, 3)\n",
    "    r_squared = round(result.rvalue**2, 3)\n",
    "    return slope, r_squared\n",
    "\n",
    "\n",
    "def country_trendline(country_name):\n",
    "    df = process_sdg_data(\"data/SG_GEN_PARL.xlsx\", \n",
    "                          [\"Goal\", \"Target\", \"Indicator\", \"SeriesCode\", \"SeriesDescription\", \"GeoAreaCode\", \"Reporting Type\", \"Sex\", \"Units\"])\n",
    "    timestamps = [int(i) for i in df.index.tolist()]\n",
    "    country_data = df[country_name].tolist()\n",
    "    slope, r_squared = fit_trendline(timestamps, country_data)\n",
    "    return slope, r_squared\n",
    "\n",
    "\n",
    "app = FastAPI()\n",
    "\n",
    "\n",
    "@app.get(\"/country_trendline/{country}\")\n",
    "def calculate_country_trendline(country: str):\n",
    "    slope, r_squared = country_trendline(country)\n",
    "    return {\"slope\": slope, \"r_squared\": r_squared}"
   ]
  },
  {
   "cell_type": "code",
   "execution_count": 5,
   "id": "1932dac3-9f5d-4ceb-b2d1-a25dec52c31a",
   "metadata": {},
   "outputs": [
    {
     "name": "stdout",
     "output_type": "stream",
     "text": [
      "\u001b[32mINFO\u001b[0m:     Started server process [\u001b[36m84266\u001b[0m]\n",
      "\u001b[32mINFO\u001b[0m:     Waiting for application startup.\n",
      "\u001b[32mINFO\u001b[0m:     Application startup complete.\n",
      "\u001b[31mERROR\u001b[0m:    [Errno 48] error while attempting to bind on address ('127.0.0.1', 8000): address already in use\n",
      "\u001b[32mINFO\u001b[0m:     Waiting for application shutdown.\n",
      "\u001b[32mINFO\u001b[0m:     Application shutdown complete.\n"
     ]
    }
   ],
   "source": [
    "!uvicorn chapter_11_functions:app"
   ]
  },
  {
   "cell_type": "code",
   "execution_count": 6,
   "id": "80da88d8-ec3b-4be7-b183-e36801e306be",
   "metadata": {},
   "outputs": [
    {
     "name": "stdout",
     "output_type": "stream",
     "text": [
      "Overwriting chapter_11_functions.py\n"
     ]
    }
   ],
   "source": [
    "%%writefile chapter_11_functions.py\n",
    "from scipy.stats import linregress\n",
    "from pydantic import BaseModel\n",
    "from fastapi import FastAPI\n",
    "from typing import List\n",
    "import pandas as pd\n",
    "\n",
    "\n",
    "def process_sdg_data(input_excel_file, columns_to_drop):\n",
    "    df = pd.read_excel(input_excel_file)\n",
    "    df = df.drop(columns_to_drop, axis=1)\n",
    "    df = df.set_index(\"GeoAreaName\").transpose()\n",
    "    return df\n",
    "    \n",
    "\n",
    "def fit_trendline(year_timestamps, data):\n",
    "    result = linregress(year_timestamps, data)\n",
    "    slope = round(result.slope, 3)\n",
    "    r_squared = round(result.rvalue**2, 3)\n",
    "    return slope, r_squared\n",
    "\n",
    "\n",
    "def country_trendline(country_name):\n",
    "    df = process_sdg_data(\"data/SG_GEN_PARL.xlsx\", \n",
    "                          [\"Goal\", \"Target\", \"Indicator\", \"SeriesCode\", \"SeriesDescription\", \"GeoAreaCode\", \"Reporting Type\", \"Sex\", \"Units\"])\n",
    "    timestamps = [int(i) for i in df.index.tolist()]\n",
    "    country_data = df[country_name].tolist()\n",
    "    slope, r_squared = fit_trendline(timestamps, country_data)\n",
    "    return slope, r_squared\n",
    "\n",
    "\n",
    "app = FastAPI()\n",
    "\n",
    "\n",
    "@app.get(\"/country_trendline/{country}\")\n",
    "def calculate_country_trendline(country: str):\n",
    "    slope, r_squared = country_trendline(country)\n",
    "    return {\"slope\": slope, \"r_squared\": r_squared}\n",
    "\n",
    "\n",
    "class TrendlineInput(BaseModel):\n",
    "    timestamps: List[int]\n",
    "    data: List[float]\n",
    "\n",
    "\n",
    "# @app.post(\"/fit_trendline/\")\n",
    "@app.post(\"/fit_trendline/\", \n",
    "          summary=\"Fit a trendline to any data\",\n",
    "          description=\"Provide a list of integer timestamps and a list of floats\")\n",
    "def calculate_trendline(trendline_input: TrendlineInput):\n",
    "    slope, r_squared = fit_trendline(trendline_input.timestamps,\n",
    "                                     trendline_input.data)\n",
    "    return {\"slope\": slope, \"r_squared\": r_squared}"
   ]
  },
  {
   "cell_type": "code",
   "execution_count": 7,
   "id": "c5526193-e6a8-429d-b67a-7e6d44c5e5ab",
   "metadata": {},
   "outputs": [
    {
     "data": {
      "text/plain": [
       "200"
      ]
     },
     "execution_count": 7,
     "metadata": {},
     "output_type": "execute_result"
    }
   ],
   "source": [
    "# !uvicorn chapter_11_functions:app\n",
    "import requests\n",
    "\n",
    "\n",
    "response = requests.get(\"http://127.0.0.1:8000/country_trendline/India\")\n",
    "response.status_code"
   ]
  },
  {
   "cell_type": "code",
   "execution_count": 8,
   "id": "0da696ab-415d-4bbd-905e-63b2bc7efc19",
   "metadata": {},
   "outputs": [
    {
     "data": {
      "text/plain": [
       "{'slope': 0.292, 'r_squared': 0.869}"
      ]
     },
     "execution_count": 8,
     "metadata": {},
     "output_type": "execute_result"
    }
   ],
   "source": [
    "response.json()"
   ]
  },
  {
   "cell_type": "code",
   "execution_count": 9,
   "id": "42075304-eef4-42ba-ad91-327b778ff075",
   "metadata": {},
   "outputs": [
    {
     "data": {
      "text/plain": [
       "{'slope': 0.1, 'r_squared': 1.0}"
      ]
     },
     "execution_count": 9,
     "metadata": {},
     "output_type": "execute_result"
    }
   ],
   "source": [
    "url = \"http://127.0.0.1:8000/fit_trendline/\"\n",
    "json_data = {\"timestamps\": [2000, 2001, 2002],\n",
    "             \"data\": [0.5, 0.6, 0.7]}\n",
    "response = requests.post(url=url, json=json_data)\n",
    "response.json()"
   ]
  },
  {
   "cell_type": "code",
   "execution_count": null,
   "id": "fc7553ff-c6ad-44b6-8160-67344b4baf60",
   "metadata": {},
   "outputs": [],
   "source": []
  }
 ],
 "metadata": {
  "kernelspec": {
   "display_name": "Python 3.8",
   "language": "python",
   "name": "py38"
  },
  "language_info": {
   "codemirror_mode": {
    "name": "ipython",
    "version": 3
   },
   "file_extension": ".py",
   "mimetype": "text/x-python",
   "name": "python",
   "nbconvert_exporter": "python",
   "pygments_lexer": "ipython3",
   "version": "3.8.18"
  }
 },
 "nbformat": 4,
 "nbformat_minor": 5
}
