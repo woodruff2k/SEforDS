{
 "cells": [
  {
   "cell_type": "code",
   "execution_count": null,
   "id": "5e2f2881-55b3-426c-9df5-0a6cb97a8604",
   "metadata": {},
   "outputs": [],
   "source": [
    "%%writefile plot_big_o.py\n",
    "import matplotlib.pyplot as plt\n",
    "\n",
    "\n",
    "def plot_big_o(save_path):\n",
    "    n = np.linspace(1, 10, 1000)\n",
    "    line_names = [\"Constant\", \"Linear\", \"Quadratic\", \"Exponential\", \"Logarithmic\"]\n",
    "    big_o = [np.ones(n.shape), n, n**2, 2**n, np.log(n)]\n",
    "\n",
    "    fig, ax = plt.subplots()\n",
    "    fig.set_facecolor(\"white\")\n",
    "\n",
    "    ax.set_lim(0,50)\n",
    "    for i in range(len(big_o)):\n",
    "        ax.plot(n, big_o[ i], label= line_names[i ])\n",
    "    ax.set_ylabel(\"Relative Runtime\")\n",
    "    ax.set_xlabel(\"Input Size\")\n",
    "    ax.legend()\n",
    "\n",
    "    fig.savefig(save_path, bbox_inches=\"tight\")"
   ]
  },
  {
   "cell_type": "code",
   "execution_count": null,
   "id": "60e550ab-2dcb-4f35-9854-e28e807f7e7b",
   "metadata": {},
   "outputs": [],
   "source": []
  }
 ],
 "metadata": {
  "kernelspec": {
   "display_name": "Python 3.8",
   "language": "python",
   "name": "py38"
  },
  "language_info": {
   "codemirror_mode": {
    "name": "ipython",
    "version": 3
   },
   "file_extension": ".py",
   "mimetype": "text/x-python",
   "name": "python",
   "nbconvert_exporter": "python",
   "pygments_lexer": "ipython3",
   "version": "3.8.18"
  }
 },
 "nbformat": 4,
 "nbformat_minor": 5
}
